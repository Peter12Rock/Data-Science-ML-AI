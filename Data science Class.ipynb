{
 "cells": [
  {
   "cell_type": "code",
   "execution_count": 1,
   "id": "0c53bb3a",
   "metadata": {},
   "outputs": [
    {
     "name": "stdout",
     "output_type": "stream",
     "text": [
      "Hello World\n"
     ]
    }
   ],
   "source": [
    "print(\"Hello World\")"
   ]
  },
  {
   "cell_type": "code",
   "execution_count": null,
   "id": "9a75006a",
   "metadata": {},
   "outputs": [],
   "source": [
    "myName = input(\"Enter your name: \")\n",
    "age = input(\"Enter your age: \")\n",
    "score = input(\"What's your score? \")\n",
    "\n",
    "print(\"Welcome \" +myName+ \" you are \" +age+ \" years old and you scored \" +score+ \" in your test\")\n"
   ]
  },
  {
   "cell_type": "markdown",
   "id": "149e34a1",
   "metadata": {},
   "source": [
    "# Set object"
   ]
  },
  {
   "cell_type": "code",
   "execution_count": 7,
   "id": "66eb50bf",
   "metadata": {},
   "outputs": [
    {
     "data": {
      "text/plain": [
       "{'Abuja', 'Ibadan', 'Ogbomoso', 'kano', 'lagos'}"
      ]
     },
     "execution_count": 7,
     "metadata": {},
     "output_type": "execute_result"
    }
   ],
   "source": [
    "cities = {'lagos', 'Ibadan', 'Abuja', 'kano', 'Ogbomoso'}\n",
    "#Set is an unorder array, It cannot be index\n",
    "cities"
   ]
  },
  {
   "cell_type": "markdown",
   "id": "7c05f8a5",
   "metadata": {},
   "source": [
    "# Dictionary"
   ]
  },
  {
   "cell_type": "code",
   "execution_count": 8,
   "id": "18a810cc",
   "metadata": {},
   "outputs": [
    {
     "data": {
      "text/plain": [
       "{'Name': 'Ade', 'School': 'OAU', 'Course': 'Chemiacal Engineering'}"
      ]
     },
     "execution_count": 8,
     "metadata": {},
     "output_type": "execute_result"
    }
   ],
   "source": [
    "StudentInfo = {\"Name\": \"Ade\", \"School\":\"OAU\", \"Course\":\"Chemiacal Engineering\"}\n",
    "StudentInfo"
   ]
  },
  {
   "cell_type": "code",
   "execution_count": 12,
   "id": "72e2e0d0",
   "metadata": {},
   "outputs": [
    {
     "data": {
      "text/plain": [
       "'Ade'"
      ]
     },
     "execution_count": 12,
     "metadata": {},
     "output_type": "execute_result"
    }
   ],
   "source": [
    "StudentInfo[\"Name\"]"
   ]
  },
  {
   "cell_type": "markdown",
   "id": "3ba49f5d",
   "metadata": {},
   "source": [
    "## IF/ELSE STATEMENT"
   ]
  },
  {
   "cell_type": "code",
   "execution_count": 16,
   "id": "6773f396",
   "metadata": {},
   "outputs": [
    {
     "name": "stdout",
     "output_type": "stream",
     "text": [
      "I will attend\n"
     ]
    }
   ],
   "source": [
    "courseFee = 'paid'\n",
    "if courseFee == 'free':\n",
    "    print('I will attend the meeting')\n",
    "else:\n",
    "    print(\"I will attend\")"
   ]
  },
  {
   "cell_type": "code",
   "execution_count": 19,
   "id": "ecd3397f",
   "metadata": {},
   "outputs": [
    {
     "name": "stdout",
     "output_type": "stream",
     "text": [
      "How old are you? 30\n",
      "Congrats, access granted\n"
     ]
    }
   ],
   "source": [
    "age = eval(input(\"How old are you? \"))\n",
    "if age >= 18:\n",
    "    print(\"Congrats, access granted\")\n",
    "else:\n",
    "    print(\"Sorry!\")"
   ]
  },
  {
   "cell_type": "markdown",
   "id": "0a0fc34a",
   "metadata": {},
   "source": [
    "# Python Function"
   ]
  },
  {
   "cell_type": "code",
   "execution_count": 25,
   "id": "09d32d3c",
   "metadata": {},
   "outputs": [],
   "source": [
    "def addition():\n",
    "    val1 = 56\n",
    "    val2 = 23\n",
    "    print(val1 + val2)"
   ]
  },
  {
   "cell_type": "code",
   "execution_count": null,
   "id": "377034ad",
   "metadata": {},
   "outputs": [],
   "source": []
  },
  {
   "cell_type": "code",
   "execution_count": 26,
   "id": "e84a2a30",
   "metadata": {},
   "outputs": [
    {
     "name": "stdout",
     "output_type": "stream",
     "text": [
      "79\n"
     ]
    }
   ],
   "source": [
    "addition()"
   ]
  },
  {
   "cell_type": "markdown",
   "id": "e492a7a9",
   "metadata": {},
   "source": [
    "# Numpy and panda"
   ]
  },
  {
   "cell_type": "code",
   "execution_count": 1,
   "id": "0befac7e",
   "metadata": {},
   "outputs": [],
   "source": [
    "import numpy as np\n",
    "import pandas as pd\n"
   ]
  },
  {
   "cell_type": "code",
   "execution_count": 3,
   "id": "8cdf8fff",
   "metadata": {},
   "outputs": [
    {
     "name": "stdout",
     "output_type": "stream",
     "text": [
      "numpy version 1.20.3\n",
      "pandas version 1.3.4\n"
     ]
    }
   ],
   "source": [
    "print(\"numpy version\", np.__version__)\n",
    "print(\"pandas version\", pd.__version__)"
   ]
  },
  {
   "cell_type": "code",
   "execution_count": 4,
   "id": "30f9d10c",
   "metadata": {},
   "outputs": [
    {
     "data": {
      "text/plain": [
       "array(20)"
      ]
     },
     "execution_count": 4,
     "metadata": {},
     "output_type": "execute_result"
    }
   ],
   "source": [
    "# pip install --upgrade numpy\n",
    "np.array(20)"
   ]
  },
  {
   "cell_type": "code",
   "execution_count": 5,
   "id": "86d13112",
   "metadata": {},
   "outputs": [
    {
     "data": {
      "text/plain": [
       "array([ 0,  1,  2,  3,  4,  5,  6,  7,  8,  9, 10, 11, 12, 13, 14, 15, 16,\n",
       "       17, 18, 19])"
      ]
     },
     "execution_count": 5,
     "metadata": {},
     "output_type": "execute_result"
    }
   ],
   "source": [
    "# create an array of range of values\n",
    "np.arange(20)"
   ]
  },
  {
   "cell_type": "code",
   "execution_count": 7,
   "id": "f86996bd",
   "metadata": {},
   "outputs": [
    {
     "data": {
      "text/plain": [
       "array([0. , 0.5, 1. ])"
      ]
     },
     "execution_count": 7,
     "metadata": {},
     "output_type": "execute_result"
    }
   ],
   "source": [
    "np.linspace(0, 1, 3)"
   ]
  },
  {
   "cell_type": "code",
   "execution_count": 11,
   "id": "7af1f4ed",
   "metadata": {},
   "outputs": [
    {
     "data": {
      "text/plain": [
       "array([[0.82857077, 0.11966195, 0.75989577],\n",
       "       [0.40871174, 0.65379531, 0.31795939],\n",
       "       [0.76147068, 0.4184411 , 0.77150699]])"
      ]
     },
     "execution_count": 11,
     "metadata": {},
     "output_type": "execute_result"
    }
   ],
   "source": [
    "np.random.random((3,3))"
   ]
  },
  {
   "cell_type": "code",
   "execution_count": 18,
   "id": "0f67dbd0",
   "metadata": {},
   "outputs": [
    {
     "data": {
      "text/plain": [
       "array([6, 3, 7, 4, 6])"
      ]
     },
     "execution_count": 18,
     "metadata": {},
     "output_type": "execute_result"
    }
   ],
   "source": [
    "val = np.random.randint(0,10,5)\n",
    "val"
   ]
  },
  {
   "cell_type": "code",
   "execution_count": 19,
   "id": "c42c738a",
   "metadata": {},
   "outputs": [
    {
     "data": {
      "text/plain": [
       "array([3, 0, 5, 3, 4, 9])"
      ]
     },
     "execution_count": 19,
     "metadata": {},
     "output_type": "execute_result"
    }
   ],
   "source": [
    "al = np.random.RandomState(45)\n",
    "al = al.randint(10, size=6)\n",
    "al"
   ]
  },
  {
   "cell_type": "code",
   "execution_count": 20,
   "id": "cd06aabd",
   "metadata": {},
   "outputs": [],
   "source": [
    "np.random.seed(45) #generate random but same value"
   ]
  },
  {
   "cell_type": "code",
   "execution_count": null,
   "id": "2961d6e9",
   "metadata": {},
   "outputs": [],
   "source": []
  }
 ],
 "metadata": {
  "kernelspec": {
   "display_name": "Python 3 (ipykernel)",
   "language": "python",
   "name": "python3"
  },
  "language_info": {
   "codemirror_mode": {
    "name": "ipython",
    "version": 3
   },
   "file_extension": ".py",
   "mimetype": "text/x-python",
   "name": "python",
   "nbconvert_exporter": "python",
   "pygments_lexer": "ipython3",
   "version": "3.9.7"
  }
 },
 "nbformat": 4,
 "nbformat_minor": 5
}
