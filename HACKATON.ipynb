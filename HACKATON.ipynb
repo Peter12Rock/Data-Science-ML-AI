{
 "cells": [
  {
   "cell_type": "code",
   "execution_count": 1,
   "id": "d3205653",
   "metadata": {},
   "outputs": [],
   "source": [
    "import numpy as np\n",
    "import pandas as pd\n",
    "import matplotlib.pyplot as plt\n",
    "import seaborn\n",
    "import sklearn\n",
    "\n",
    "from sklearn.preprocessing import OneHotEncoder\n",
    "from sklearn.model_selection import train_test_split"
   ]
  },
  {
   "cell_type": "code",
   "execution_count": 2,
   "id": "e34b0706",
   "metadata": {},
   "outputs": [
    {
     "data": {
      "text/html": [
       "<div>\n",
       "<style scoped>\n",
       "    .dataframe tbody tr th:only-of-type {\n",
       "        vertical-align: middle;\n",
       "    }\n",
       "\n",
       "    .dataframe tbody tr th {\n",
       "        vertical-align: top;\n",
       "    }\n",
       "\n",
       "    .dataframe thead th {\n",
       "        text-align: right;\n",
       "    }\n",
       "</style>\n",
       "<table border=\"1\" class=\"dataframe\">\n",
       "  <thead>\n",
       "    <tr style=\"text-align: right;\">\n",
       "      <th></th>\n",
       "      <th>VehicleID</th>\n",
       "      <th>Location</th>\n",
       "      <th>Maker</th>\n",
       "      <th>Model</th>\n",
       "      <th>Year</th>\n",
       "      <th>Colour</th>\n",
       "      <th>Amount (Million Naira)</th>\n",
       "      <th>Type</th>\n",
       "      <th>Distance</th>\n",
       "    </tr>\n",
       "  </thead>\n",
       "  <tbody>\n",
       "    <tr>\n",
       "      <th>0</th>\n",
       "      <td>VHL12546</td>\n",
       "      <td>Abuja</td>\n",
       "      <td>Honda</td>\n",
       "      <td>Accord Coupe EX V-6</td>\n",
       "      <td>2,011</td>\n",
       "      <td>Silver</td>\n",
       "      <td>2.2</td>\n",
       "      <td>Nigerian Used</td>\n",
       "      <td>NaN</td>\n",
       "    </tr>\n",
       "    <tr>\n",
       "      <th>1</th>\n",
       "      <td>VHL18827</td>\n",
       "      <td>Ibadan</td>\n",
       "      <td>Hyundai</td>\n",
       "      <td>Sonata</td>\n",
       "      <td>2,012</td>\n",
       "      <td>Silver</td>\n",
       "      <td>3.5</td>\n",
       "      <td>Nigerian Used</td>\n",
       "      <td>125000.0</td>\n",
       "    </tr>\n",
       "    <tr>\n",
       "      <th>2</th>\n",
       "      <td>VHL19499</td>\n",
       "      <td>Lagos</td>\n",
       "      <td>Lexus</td>\n",
       "      <td>RX 350</td>\n",
       "      <td>2,010</td>\n",
       "      <td>Red</td>\n",
       "      <td>9.2</td>\n",
       "      <td>Foreign Used</td>\n",
       "      <td>110852.0</td>\n",
       "    </tr>\n",
       "    <tr>\n",
       "      <th>3</th>\n",
       "      <td>VHL17991</td>\n",
       "      <td>Abuja</td>\n",
       "      <td>Mercedes-Benz</td>\n",
       "      <td>GLE-Class</td>\n",
       "      <td>2,017</td>\n",
       "      <td>Blue</td>\n",
       "      <td>22.8</td>\n",
       "      <td>Foreign Used</td>\n",
       "      <td>30000.0</td>\n",
       "    </tr>\n",
       "    <tr>\n",
       "      <th>4</th>\n",
       "      <td>VHL12170</td>\n",
       "      <td>Ibadan</td>\n",
       "      <td>Toyota</td>\n",
       "      <td>Highlander</td>\n",
       "      <td>2,002</td>\n",
       "      <td>Red</td>\n",
       "      <td>2.6</td>\n",
       "      <td>Nigerian Used</td>\n",
       "      <td>125206.0</td>\n",
       "    </tr>\n",
       "  </tbody>\n",
       "</table>\n",
       "</div>"
      ],
      "text/plain": [
       "  VehicleID Location          Maker                Model   Year  Colour  \\\n",
       "0  VHL12546    Abuja          Honda  Accord Coupe EX V-6  2,011  Silver   \n",
       "1  VHL18827   Ibadan        Hyundai               Sonata  2,012  Silver   \n",
       "2  VHL19499    Lagos          Lexus               RX 350  2,010     Red   \n",
       "3  VHL17991    Abuja  Mercedes-Benz            GLE-Class  2,017    Blue   \n",
       "4  VHL12170   Ibadan         Toyota           Highlander  2,002     Red   \n",
       "\n",
       "   Amount (Million Naira)           Type  Distance  \n",
       "0                     2.2  Nigerian Used       NaN  \n",
       "1                     3.5  Nigerian Used  125000.0  \n",
       "2                     9.2   Foreign Used  110852.0  \n",
       "3                    22.8   Foreign Used   30000.0  \n",
       "4                     2.6  Nigerian Used  125206.0  "
      ]
     },
     "execution_count": 2,
     "metadata": {},
     "output_type": "execute_result"
    }
   ],
   "source": [
    "Car_Industry= pd.read_csv(\"C:\\\\Users\\\\Peter\\\\Downloads\\\\Data Analysis\\\\Practicals\\\\DSN\\\\free-ai-classes-in-every-city-hackathon\\\\Train 12.csv\")\n",
    "Car_Industry.head()"
   ]
  },
  {
   "cell_type": "markdown",
   "id": "d2ad068c",
   "metadata": {},
   "source": [
    "# Checking through the Files "
   ]
  },
  {
   "cell_type": "code",
   "execution_count": 3,
   "id": "4b29a84c",
   "metadata": {},
   "outputs": [
    {
     "name": "stdout",
     "output_type": "stream",
     "text": [
      "<class 'pandas.core.frame.DataFrame'>\n",
      "RangeIndex: 7205 entries, 0 to 7204\n",
      "Data columns (total 9 columns):\n",
      " #   Column                  Non-Null Count  Dtype  \n",
      "---  ------                  --------------  -----  \n",
      " 0   VehicleID               7205 non-null   object \n",
      " 1   Location                7205 non-null   object \n",
      " 2   Maker                   7205 non-null   object \n",
      " 3   Model                   7205 non-null   object \n",
      " 4   Year                    7184 non-null   object \n",
      " 5   Colour                  7205 non-null   object \n",
      " 6   Amount (Million Naira)  7188 non-null   float64\n",
      " 7   Type                    7008 non-null   object \n",
      " 8   Distance                4845 non-null   float64\n",
      "dtypes: float64(2), object(7)\n",
      "memory usage: 506.7+ KB\n"
     ]
    }
   ],
   "source": [
    "Car_Industry.info()"
   ]
  },
  {
   "cell_type": "code",
   "execution_count": 4,
   "id": "cc41a3e8",
   "metadata": {},
   "outputs": [
    {
     "data": {
      "text/html": [
       "<div>\n",
       "<style scoped>\n",
       "    .dataframe tbody tr th:only-of-type {\n",
       "        vertical-align: middle;\n",
       "    }\n",
       "\n",
       "    .dataframe tbody tr th {\n",
       "        vertical-align: top;\n",
       "    }\n",
       "\n",
       "    .dataframe thead th {\n",
       "        text-align: right;\n",
       "    }\n",
       "</style>\n",
       "<table border=\"1\" class=\"dataframe\">\n",
       "  <thead>\n",
       "    <tr style=\"text-align: right;\">\n",
       "      <th></th>\n",
       "      <th>Amount (Million Naira)</th>\n",
       "      <th>Distance</th>\n",
       "    </tr>\n",
       "  </thead>\n",
       "  <tbody>\n",
       "    <tr>\n",
       "      <th>count</th>\n",
       "      <td>7188.000000</td>\n",
       "      <td>4.845000e+03</td>\n",
       "    </tr>\n",
       "    <tr>\n",
       "      <th>mean</th>\n",
       "      <td>11.847999</td>\n",
       "      <td>1.031989e+05</td>\n",
       "    </tr>\n",
       "    <tr>\n",
       "      <th>std</th>\n",
       "      <td>25.318922</td>\n",
       "      <td>1.182902e+05</td>\n",
       "    </tr>\n",
       "    <tr>\n",
       "      <th>min</th>\n",
       "      <td>0.450000</td>\n",
       "      <td>1.000000e+00</td>\n",
       "    </tr>\n",
       "    <tr>\n",
       "      <th>25%</th>\n",
       "      <td>3.500000</td>\n",
       "      <td>5.235200e+04</td>\n",
       "    </tr>\n",
       "    <tr>\n",
       "      <th>50%</th>\n",
       "      <td>5.650000</td>\n",
       "      <td>8.083000e+04</td>\n",
       "    </tr>\n",
       "    <tr>\n",
       "      <th>75%</th>\n",
       "      <td>11.662500</td>\n",
       "      <td>1.175840e+05</td>\n",
       "    </tr>\n",
       "    <tr>\n",
       "      <th>max</th>\n",
       "      <td>456.000000</td>\n",
       "      <td>1.985400e+06</td>\n",
       "    </tr>\n",
       "  </tbody>\n",
       "</table>\n",
       "</div>"
      ],
      "text/plain": [
       "       Amount (Million Naira)      Distance\n",
       "count             7188.000000  4.845000e+03\n",
       "mean                11.847999  1.031989e+05\n",
       "std                 25.318922  1.182902e+05\n",
       "min                  0.450000  1.000000e+00\n",
       "25%                  3.500000  5.235200e+04\n",
       "50%                  5.650000  8.083000e+04\n",
       "75%                 11.662500  1.175840e+05\n",
       "max                456.000000  1.985400e+06"
      ]
     },
     "execution_count": 4,
     "metadata": {},
     "output_type": "execute_result"
    }
   ],
   "source": [
    "Car_Industry.describe()"
   ]
  },
  {
   "cell_type": "markdown",
   "id": "d1c996ef",
   "metadata": {},
   "source": [
    "# Cleaning the Data"
   ]
  },
  {
   "cell_type": "code",
   "execution_count": 5,
   "id": "be9977ad",
   "metadata": {},
   "outputs": [],
   "source": [
    "#Car_Industry.isnull()"
   ]
  },
  {
   "cell_type": "code",
   "execution_count": 6,
   "id": "b7f5a11b",
   "metadata": {},
   "outputs": [
    {
     "data": {
      "text/plain": [
       "VehicleID                 False\n",
       "Location                  False\n",
       "Maker                     False\n",
       "Model                     False\n",
       "Year                       True\n",
       "Colour                    False\n",
       "Amount (Million Naira)     True\n",
       "Type                       True\n",
       "Distance                   True\n",
       "dtype: bool"
      ]
     },
     "execution_count": 6,
     "metadata": {},
     "output_type": "execute_result"
    }
   ],
   "source": [
    "Car_Industry.isnull().any()"
   ]
  },
  {
   "cell_type": "code",
   "execution_count": 7,
   "id": "ff7c416c",
   "metadata": {
    "scrolled": true
   },
   "outputs": [
    {
     "data": {
      "text/plain": [
       "VehicleID                    0\n",
       "Location                     0\n",
       "Maker                        0\n",
       "Model                        0\n",
       "Year                        21\n",
       "Colour                       0\n",
       "Amount (Million Naira)      17\n",
       "Type                       197\n",
       "Distance                  2360\n",
       "dtype: int64"
      ]
     },
     "execution_count": 7,
     "metadata": {},
     "output_type": "execute_result"
    }
   ],
   "source": [
    "Car_Industry.isnull().sum()"
   ]
  },
  {
   "cell_type": "markdown",
   "id": "589d7e6e",
   "metadata": {},
   "source": [
    "# Check the data type"
   ]
  },
  {
   "cell_type": "code",
   "execution_count": 8,
   "id": "4be762f4",
   "metadata": {},
   "outputs": [
    {
     "data": {
      "text/plain": [
       "VehicleID                  object\n",
       "Location                   object\n",
       "Maker                      object\n",
       "Model                      object\n",
       "Year                       object\n",
       "Colour                     object\n",
       "Amount (Million Naira)    float64\n",
       "Type                       object\n",
       "Distance                  float64\n",
       "dtype: object"
      ]
     },
     "execution_count": 8,
     "metadata": {},
     "output_type": "execute_result"
    }
   ],
   "source": [
    "Car_Industry.dtypes"
   ]
  },
  {
   "cell_type": "markdown",
   "id": "46ddcb31",
   "metadata": {},
   "source": [
    "# Convert data type "
   ]
  },
  {
   "cell_type": "code",
   "execution_count": 9,
   "id": "107d209a",
   "metadata": {},
   "outputs": [],
   "source": [
    "#Car_Industry[\"Distance\"].fillna(0, inplace=True)\n",
    "#Car_Industry.isnull().sum()"
   ]
  },
  {
   "cell_type": "code",
   "execution_count": 10,
   "id": "d1a994bd",
   "metadata": {},
   "outputs": [],
   "source": [
    "#\"Car_Industry[\"Distance.join(number.split(\",\"))"
   ]
  },
  {
   "cell_type": "code",
   "execution_count": 11,
   "id": "e8576022",
   "metadata": {},
   "outputs": [],
   "source": [
    "#Car_Industry[\"Distance\"] = Car_Industry.astype({\"Distance\":\"float\"})\n",
    "#Car_Industry[\"Distance\"] = pd.to_numeric(Car_Industry[\"Distance\"])\n",
    "#Car_Industry[\"Distance\"] =  pd.to_numeric(Car_Industry[\"Distance\"], errors=\"coerce\") #covert string to NAN\n",
    "#Car_Industry = Car_Industry.replace(np.nan,0, regex=True) #Replace NAN with Zero\n",
    "#Car_Industry[\"Distance\"] = Car_Industry.Distance.replace(\"\",np.nan).astype(float)\n",
    "#Car_Industry[\"Distance\"] = pd.to_numeric(Car_Industry[\"Distance\"], downcast=\"float\")\n",
    "\n",
    "#cat_features = [\"Distance\",\"Location\",\"Maker\",\"Year\",\"Colour\",\"Type\"]\n",
    "#for cat_feature in Car_Industry[\"Distance\"]:\n",
    " # Car_Industry[\"Distance_fl\"] = Car_Industry[\"Distance\"].astype('float')\n",
    "#Car_Industry.dtypes"
   ]
  },
  {
   "cell_type": "code",
   "execution_count": 12,
   "id": "558b9651",
   "metadata": {},
   "outputs": [
    {
     "name": "stdout",
     "output_type": "stream",
     "text": [
      "103198.90361197111\n"
     ]
    }
   ],
   "source": [
    "# fill up missing values in Distance wilth the mean\n",
    "mean_value = Car_Industry[\"Distance\"].mean()\n",
    "print(mean_value)\n",
    "Car_Industry[\"Distance\"].fillna(mean_value, inplace=True)"
   ]
  },
  {
   "cell_type": "code",
   "execution_count": 16,
   "id": "ea9ff8ad",
   "metadata": {},
   "outputs": [
    {
     "data": {
      "image/png": "[encoded data removed]",
      "text/plain": [
       "<Figure size 432x288 with 1 Axes>"
      ]
     },
     "metadata": {
      "needs_background": "light"
     },
     "output_type": "display_data"
    }
   ],
   "source": [
    "Amount = Car_Industry['Amount (Million Naira)'].values\n",
    "Distance = Car_Industry['Distance'].values\n",
    "\n",
    "# Ploting the scores as scatter plot\n",
    "plt.scatter(Distance, Amount, color='#ef5423')\n",
    "plt.xlabel(\"Distance\")\n",
    "plt.ylabel(\"Amount\")\n",
    "plt.show()"
   ]
  },
  {
   "cell_type": "code",
   "execution_count": 17,
   "id": "41a488f5",
   "metadata": {},
   "outputs": [
    {
     "data": {
      "text/plain": [
       "VehicleID                   0\n",
       "Location                    0\n",
       "Maker                       0\n",
       "Model                       0\n",
       "Year                       21\n",
       "Colour                      0\n",
       "Amount (Million Naira)     17\n",
       "Type                      197\n",
       "Distance                    0\n",
       "dtype: int64"
      ]
     },
     "execution_count": 17,
     "metadata": {},
     "output_type": "execute_result"
    }
   ],
   "source": [
    "Car_Industry.isnull().sum()"
   ]
  },
  {
   "cell_type": "code",
   "execution_count": null,
   "id": "9df4f5d6",
   "metadata": {},
   "outputs": [],
   "source": [
    "# Drop all Null"
   ]
  },
  {
   "cell_type": "code",
   "execution_count": 18,
   "id": "994b6909",
   "metadata": {},
   "outputs": [
    {
     "data": {
      "text/html": [
       "<div>\n",
       "<style scoped>\n",
       "    .dataframe tbody tr th:only-of-type {\n",
       "        vertical-align: middle;\n",
       "    }\n",
       "\n",
       "    .dataframe tbody tr th {\n",
       "        vertical-align: top;\n",
       "    }\n",
       "\n",
       "    .dataframe thead th {\n",
       "        text-align: right;\n",
       "    }\n",
       "</style>\n",
       "<table border=\"1\" class=\"dataframe\">\n",
       "  <thead>\n",
       "    <tr style=\"text-align: right;\">\n",
       "      <th></th>\n",
       "      <th>VehicleID</th>\n",
       "      <th>Location</th>\n",
       "      <th>Maker</th>\n",
       "      <th>Model</th>\n",
       "      <th>Year</th>\n",
       "      <th>Colour</th>\n",
       "      <th>Amount (Million Naira)</th>\n",
       "      <th>Type</th>\n",
       "      <th>Distance</th>\n",
       "    </tr>\n",
       "  </thead>\n",
       "  <tbody>\n",
       "    <tr>\n",
       "      <th>0</th>\n",
       "      <td>VHL12546</td>\n",
       "      <td>Abuja</td>\n",
       "      <td>Honda</td>\n",
       "      <td>Accord Coupe EX V-6</td>\n",
       "      <td>2,011</td>\n",
       "      <td>Silver</td>\n",
       "      <td>2.2</td>\n",
       "      <td>Nigerian Used</td>\n",
       "      <td>103198.903612</td>\n",
       "    </tr>\n",
       "    <tr>\n",
       "      <th>1</th>\n",
       "      <td>VHL18827</td>\n",
       "      <td>Ibadan</td>\n",
       "      <td>Hyundai</td>\n",
       "      <td>Sonata</td>\n",
       "      <td>2,012</td>\n",
       "      <td>Silver</td>\n",
       "      <td>3.5</td>\n",
       "      <td>Nigerian Used</td>\n",
       "      <td>125000.000000</td>\n",
       "    </tr>\n",
       "    <tr>\n",
       "      <th>2</th>\n",
       "      <td>VHL19499</td>\n",
       "      <td>Lagos</td>\n",
       "      <td>Lexus</td>\n",
       "      <td>RX 350</td>\n",
       "      <td>2,010</td>\n",
       "      <td>Red</td>\n",
       "      <td>9.2</td>\n",
       "      <td>Foreign Used</td>\n",
       "      <td>110852.000000</td>\n",
       "    </tr>\n",
       "    <tr>\n",
       "      <th>3</th>\n",
       "      <td>VHL17991</td>\n",
       "      <td>Abuja</td>\n",
       "      <td>Mercedes-Benz</td>\n",
       "      <td>GLE-Class</td>\n",
       "      <td>2,017</td>\n",
       "      <td>Blue</td>\n",
       "      <td>22.8</td>\n",
       "      <td>Foreign Used</td>\n",
       "      <td>30000.000000</td>\n",
       "    </tr>\n",
       "    <tr>\n",
       "      <th>4</th>\n",
       "      <td>VHL12170</td>\n",
       "      <td>Ibadan</td>\n",
       "      <td>Toyota</td>\n",
       "      <td>Highlander</td>\n",
       "      <td>2,002</td>\n",
       "      <td>Red</td>\n",
       "      <td>2.6</td>\n",
       "      <td>Nigerian Used</td>\n",
       "      <td>125206.000000</td>\n",
       "    </tr>\n",
       "  </tbody>\n",
       "</table>\n",
       "</div>"
      ],
      "text/plain": [
       "  VehicleID Location          Maker                Model   Year  Colour  \\\n",
       "0  VHL12546    Abuja          Honda  Accord Coupe EX V-6  2,011  Silver   \n",
       "1  VHL18827   Ibadan        Hyundai               Sonata  2,012  Silver   \n",
       "2  VHL19499    Lagos          Lexus               RX 350  2,010     Red   \n",
       "3  VHL17991    Abuja  Mercedes-Benz            GLE-Class  2,017    Blue   \n",
       "4  VHL12170   Ibadan         Toyota           Highlander  2,002     Red   \n",
       "\n",
       "   Amount (Million Naira)           Type       Distance  \n",
       "0                     2.2  Nigerian Used  103198.903612  \n",
       "1                     3.5  Nigerian Used  125000.000000  \n",
       "2                     9.2   Foreign Used  110852.000000  \n",
       "3                    22.8   Foreign Used   30000.000000  \n",
       "4                     2.6  Nigerian Used  125206.000000  "
      ]
     },
     "execution_count": 18,
     "metadata": {},
     "output_type": "execute_result"
    }
   ],
   "source": [
    "Car_Industry.dropna(inplace=True)\n",
    "Car_Industry.head()"
   ]
  },
  {
   "cell_type": "code",
   "execution_count": 19,
   "id": "b9030b1f",
   "metadata": {},
   "outputs": [
    {
     "data": {
      "text/plain": [
       "VehicleID                 False\n",
       "Location                  False\n",
       "Maker                     False\n",
       "Model                     False\n",
       "Year                      False\n",
       "Colour                    False\n",
       "Amount (Million Naira)    False\n",
       "Type                      False\n",
       "Distance                  False\n",
       "dtype: bool"
      ]
     },
     "execution_count": 19,
     "metadata": {},
     "output_type": "execute_result"
    }
   ],
   "source": [
    "Car_Industry.isnull().any()"
   ]
  },
  {
   "cell_type": "code",
   "execution_count": 20,
   "id": "064c9318",
   "metadata": {},
   "outputs": [
    {
     "name": "stdout",
     "output_type": "stream",
     "text": [
      "Model:['Accord Coupe EX V-6' 'Sonata' 'RX 350' ... 'Almera 1.6 Lux'\n",
      " 'X5 3.0i Sports Activity' '320i SV Premium']\n",
      "##################################################\n",
      "Amount (Million Naira):[2.200e+00 3.500e+00 9.200e+00 2.280e+01 2.600e+00 7.500e+00 7.900e+01\n",
      " 9.000e+00 7.760e+00 2.500e+00 7.200e+00 3.260e+00 1.910e+00 6.950e+00\n",
      " 1.700e+01 3.550e+00 2.200e+01 2.300e+01 1.400e+01 4.900e+00 2.480e+00\n",
      " 1.600e+01 4.600e+00 1.500e+01 1.185e+01 4.100e+00 4.500e+00 4.200e+00\n",
      " 7.800e+00 5.900e+00 4.000e+00 2.400e+00 3.000e+00 3.200e+00 2.660e+00\n",
      " 1.150e+02 3.300e+00 5.500e+00 3.850e+00 2.300e+00 5.890e+01 2.800e+00\n",
      " 6.500e+00 8.250e+00 6.800e+00 1.460e+00 3.600e+00 6.850e+00 3.750e+00\n",
      " 1.000e+01 2.810e+00 1.800e+00 6.750e+01 1.500e+00 1.690e+00 9.500e+00\n",
      " 5.780e+00 9.700e+00 3.800e+00 8.440e+00 4.450e+00 2.900e+01 1.125e+01\n",
      " 2.050e+00 2.150e+01 5.400e+00 1.069e+01 1.190e+01 7.400e+00 8.680e+00\n",
      " 8.500e+00 1.200e+00 7.310e+00 3.950e+00 6.000e+00 1.080e+01 5.200e+01\n",
      " 1.655e+01 4.500e+01 3.900e+00 1.950e+02 2.700e+01 4.350e+00 5.600e+00\n",
      " 9.900e+00 3.150e+00 8.700e+00 3.400e+00 7.900e+00 8.000e+00 1.020e+01\n",
      " 1.050e+01 4.390e+00 1.900e+00 1.400e+00 1.200e+01 1.390e+01 4.700e+00\n",
      " 9.100e+00 7.650e+00 2.250e+00 6.200e+00 4.000e+01 1.630e+00 1.250e+01\n",
      " 2.000e+00 6.700e+00 3.380e+00 9.560e+00 8.750e+01 9.800e+00 4.250e+00\n",
      " 5.300e+00 5.250e+00 2.700e+00 3.550e+01 5.800e+01 6.650e+01 3.580e+00\n",
      " 2.590e+00 1.450e+01 1.631e+01 3.200e+01 5.100e+00 3.250e+00 1.320e+01\n",
      " 1.180e+01 6.250e+00 5.800e+00 4.300e+00 2.850e+00 3.940e+00 2.500e+01\n",
      " 2.800e+01 2.550e+01 1.350e+01 4.300e+01 2.750e+00 6.450e+00 1.010e+00\n",
      " 1.980e+01 2.030e+00 7.000e+00 1.550e+01 5.650e+00 6.300e+00 4.400e+01\n",
      " 4.650e+00 2.900e+00 3.350e+00 2.400e+01 6.600e+00 2.100e+00 4.950e+00\n",
      " 1.200e+02 8.800e+00 3.040e+00 1.650e+01 4.950e+01 3.700e+00 1.650e+00\n",
      " 8.650e+00 1.130e+00 1.600e+00 7.650e+01 1.150e+01 5.700e+00 2.000e+01\n",
      " 7.700e+00 5.200e+00 4.800e+01 1.750e+01 7.400e+01 4.800e+00 8.850e+00\n",
      " 2.950e+00 7.300e+00 1.070e+01 2.100e+01 5.300e+01 2.050e+01 2.350e+01\n",
      " 2.250e+01 1.220e+02 3.450e+00 2.950e+01 8.300e+00 6.050e+00 5.880e+00\n",
      " 3.800e+01 2.650e+00 2.850e+01 5.850e+00 4.270e+01 1.800e+01 1.850e+01\n",
      " 5.000e+00 2.365e+01 2.600e+01 1.950e+00 2.080e+00 2.380e+01 1.100e+01\n",
      " 1.570e+01 3.300e+01 4.050e+00 8.200e+00 7.100e+00 9.150e+00 4.400e+00\n",
      " 8.900e+00 9.900e-01 1.300e+01 5.350e+00 3.000e+01 1.150e+00 3.500e+01\n",
      " 5.340e+00 3.650e+00 5.900e+01 1.240e+00 2.450e+00 1.900e+01 6.400e+00\n",
      " 2.295e+01 1.350e+00 4.850e+00 1.330e+01 8.550e+00 3.100e+00 5.740e+00\n",
      " 1.120e+01 1.740e+00 6.800e+01 6.850e+01 5.950e+00 1.285e+01 7.050e+00\n",
      " 1.300e+00 2.420e+01 9.400e+00 7.350e+00 1.680e+01 1.450e+00 1.950e+01\n",
      " 2.140e+00 2.930e+00 1.820e+01 1.290e+00 3.270e+00 1.580e+00 3.900e+01\n",
      " 1.850e+00 2.300e+02 1.370e+01 4.200e+01 5.000e+01 1.780e+00 9.300e+00\n",
      " 2.890e+00 3.180e+01 1.220e+01 1.520e+00 1.520e+01 8.400e-01 6.080e+00\n",
      " 8.900e-01 2.580e+00 1.170e+01 1.960e+01 4.160e+00 1.470e+01 2.750e+02\n",
      " 5.290e+00 4.730e+00 8.500e+01 1.480e+01 2.150e+00 2.680e+00 4.750e+00\n",
      " 5.550e+00 1.160e+01 9.000e-01 5.630e+00 2.550e+00 2.670e+01 5.500e+01\n",
      " 1.380e+01 7.600e+00 3.150e+01 2.350e+00 4.790e+00 5.750e+00 1.180e+00\n",
      " 1.100e+00 2.790e+00 8.900e+01 2.280e+00 3.650e+01 1.990e+00 6.100e+00\n",
      " 7.000e-01 1.630e+01 1.130e+01 9.230e+00 7.250e+00 2.813e+01 6.350e+00\n",
      " 6.900e+00 7.750e+00 1.730e+01 1.700e+00 3.700e+01 9.600e+00 8.600e+00\n",
      " 1.400e+02 4.750e+01 4.420e+00 1.385e+01 1.575e+01 9.500e+01 5.510e+00\n",
      " 1.260e+01 6.750e+00 1.195e+01 1.580e+01 1.550e+00 2.380e+00 1.830e+01\n",
      " 2.650e+01 5.450e+00 4.770e+01 6.000e+01 5.060e+00 1.390e+00 2.450e+01\n",
      " 6.500e+01 8.700e+01 1.090e+01 1.055e+01 1.050e+00 4.150e+00 7.850e+00\n",
      " 1.215e+01 1.070e+00 1.420e+01 1.463e+01 2.870e+00 3.090e+00 2.430e+01\n",
      " 5.100e+01 1.145e+01 3.280e+00 7.150e+00 4.500e-01 1.238e+01 1.490e+00\n",
      " 6.680e+00 9.000e+01 2.690e+02 3.600e+01 2.330e+00 1.350e+02 4.280e+00\n",
      " 8.990e+00 1.280e+01 2.285e+01 3.710e+00 7.950e+00 8.000e-01 4.560e+02\n",
      " 1.985e+01 1.750e+00 1.065e+01 1.870e+01 3.120e+00 1.250e+02 2.360e+00\n",
      " 6.380e+00 1.045e+01 3.880e+00 1.325e+01 2.400e+02 2.750e+01 1.920e+00\n",
      " 8.100e+00 5.625e+01 6.200e-01 1.760e+01 3.450e+01 1.270e+01 3.420e+00\n",
      " 6.190e+00 7.380e+00 1.780e+01 3.680e+00 1.430e+01 1.880e+00 1.245e+01\n",
      " 1.970e+01 4.550e+00 4.900e+01 4.235e+01 2.000e+02 1.000e+02 4.700e+01\n",
      " 2.999e+01 2.545e+01 1.790e+01 4.320e+00 1.948e+01 9.450e+00 2.980e+00\n",
      " 3.050e+00 5.150e+00 1.425e+01 1.013e+01 1.315e+01 1.085e+01 1.880e+01\n",
      " 6.200e+01 1.250e+00 3.440e+00 3.990e+00 3.480e+01 3.830e+00 5.450e+01\n",
      " 3.480e+00 4.840e+00 7.880e+00 2.950e+02 6.800e-01 3.860e+00 4.600e+01\n",
      " 7.900e-01 8.000e+01 4.980e+00 2.855e+01 1.913e+01 8.400e+00 9.600e-01\n",
      " 1.560e+01 9.850e+00 1.685e+01 7.090e+00 6.900e-01 1.945e+01 6.580e+00\n",
      " 1.690e+01 2.630e+00 3.490e+00 9.650e+00 1.395e+01 1.750e+02 1.290e+01\n",
      " 7.500e+01 2.620e+01 1.255e+01 6.180e+00 1.000e+00 8.790e+00 5.280e+00\n",
      " 1.030e+01 1.485e+01 2.840e+00 3.330e+01 4.020e+00 6.700e+01 2.370e+01\n",
      " 9.790e+00 8.200e+01 2.925e+01 4.350e+01 1.720e+00 2.690e+00 1.980e+00\n",
      " 1.700e+02 3.000e+02 6.410e+00 3.100e+01 4.390e+01 6.780e+00 4.890e+00\n",
      " 4.990e+00 4.610e+00 6.530e+00 3.950e+01 4.650e+01 3.530e+00 7.550e+00\n",
      " 1.970e+00 5.600e+01 2.490e+00 7.800e+01 9.350e+00 3.850e+01 1.225e+01\n",
      " 6.500e-01 6.890e+00 9.500e-01 1.730e+00 9.250e+00 1.420e+00 1.895e+01\n",
      " 1.860e+00 6.550e+00 2.970e+00 1.955e+01 2.680e+01 3.470e+00 1.235e+01\n",
      " 1.060e+01 1.480e+02 8.750e+00 5.380e+00 4.250e+01 3.490e+01 1.440e+02\n",
      " 2.120e+01 1.890e+00 8.450e+00 4.440e+02 7.450e+00 1.080e+02 1.590e+00\n",
      " 1.050e+02 3.350e+01 2.480e+01 4.450e+01 4.780e+00 9.800e+01 1.890e+01\n",
      " 4.480e+00 1.660e+01 4.680e+00 1.570e+00 1.601e+01 1.230e+01 9.880e+00\n",
      " 9.550e+00 8.400e+01 3.190e+00 3.770e+00 4.500e+02 7.300e-01 1.140e+01\n",
      " 1.720e+01 9.750e+00 3.750e+01 4.380e+00 8.490e+00 1.135e+01 1.455e+01\n",
      " 1.688e+01 1.240e+01 4.130e+00 4.550e+01 8.780e+00 4.580e+00 1.165e+01\n",
      " 1.920e+01 1.060e+00 2.670e+00 2.580e+01 2.450e+02 9.300e+01 1.360e+01\n",
      " 9.950e+00 2.050e+02 3.400e+01 2.530e+01 9.200e+01 2.310e+01 1.280e+00\n",
      " 5.400e+01 8.350e+00 5.600e-01 3.980e+00 1.320e+00 3.335e+01 4.460e+00\n",
      " 2.650e+02 2.760e+00 3.890e+00 2.340e+00 7.990e+00 6.650e+00 2.138e+01\n",
      " 3.540e+00 3.230e+00 5.980e+00 1.300e+02 7.450e+01 5.980e+01 2.390e+00\n",
      " 2.800e+02 8.700e-01 3.800e+02 5.350e+01 2.170e+01 3.320e+01 1.610e+01\n",
      " 6.300e+01 1.375e+01 8.950e+00 7.690e+00 1.870e+02 3.120e+01 4.300e+02\n",
      " 2.385e+01 6.000e-01 1.415e+01 4.680e+01 8.500e-01 4.540e+02 9.620e+00\n",
      " 4.860e+00 2.070e+01 3.210e+00 6.150e+00 1.670e+01 6.600e+01 2.980e+02\n",
      " 2.080e+01 7.000e+01 1.885e+01 1.089e+01 2.790e+01 1.650e+02 1.340e+01\n",
      " 1.850e+02 1.435e+01 8.050e+00 2.860e+01 1.475e+01 2.900e+02 1.969e+01\n",
      " 2.700e+02 2.985e+01 4.380e+01 6.450e+01 1.320e+02 4.940e+01 1.888e+01\n",
      " 3.250e+01 3.050e+01 2.250e+02 2.490e+01 1.405e+01 3.970e+00 1.500e+02\n",
      " 1.640e+01 2.630e+01 2.030e+01 4.100e+01 1.530e+01 1.310e+01 2.180e+01\n",
      " 6.770e+00 1.740e+01 7.700e+01 7.300e+01 4.440e+00 1.490e+02 1.280e+02\n",
      " 1.295e+01 1.445e+01 1.355e+01 5.700e+01 4.330e+00 1.770e+00 1.465e+01\n",
      " 3.938e+01 2.970e+01 7.540e+00 1.292e+01 5.063e+01 1.550e+02 1.910e+01]\n",
      "##################################################\n",
      "Type:['Nigerian Used' 'Foreign Used' 'Brand New']\n",
      "##################################################\n",
      "VehicleID:['VHL12546' 'VHL18827' 'VHL19499' ... 'VHL12205' 'VHL17562' 'VHL15246']\n",
      "##################################################\n",
      "Location:['Abuja' 'Ibadan' 'Lagos']\n",
      "##################################################\n",
      "Distance:[103198.90361197 125000.         110852.         ... 114257.\n",
      "  85750.          83308.        ]\n",
      "##################################################\n",
      "Colour:['Silver' 'Red' 'Blue' 'Black' 'Gold' 'White' 'Gray' 'Burgandy' 'Green'\n",
      " 'Brown' 'Yellow' 'Orange' 'Beige' 'Purple' 'Ivory' 'Pink' 'G' 'Teal'\n",
      " 'Pearl']\n",
      "##################################################\n",
      "Maker:['Honda' 'Hyundai' 'Lexus' 'Mercedes-Benz' 'Toyota' 'Acura' 'Dodge'\n",
      " 'Nissan' 'Kia' 'BMW' 'Volvo' 'Ford' 'Land Rover' 'Lincoln' 'Peugeot'\n",
      " 'Audi' 'Jaguar' 'Infiniti' 'Porsche' 'Maserati' 'Volkswagen' 'Bentley'\n",
      " 'GAC' 'Chevrolet' 'Mazda' 'Scion' 'Renault' 'Mitsubishi' 'Mini' 'Pontiac'\n",
      " 'Cadillac' 'Ferrari' 'Jeep' 'Buick' 'Rolls-Royce' 'GMC' 'Chrysler'\n",
      " 'Suzuki' 'Lamborghini' 'Citroen' 'King' 'BAW' 'Saturn' 'Tata' 'Opel'\n",
      " 'JAC' 'MG' 'Hummer' 'Rover' 'Saab' 'Subaru' 'Skoda' 'IVM' 'Brabus']\n",
      "##################################################\n",
      "Year:['2,011' '2,012' '2,010' '2,017' '2,002' '2,019' '2,015' '2,004' '2,003'\n",
      " '2,008' '2,018' '2,020' '2,006' '2,016' '2,014' '2,007' '2,009' '2,005'\n",
      " '2,021' '2,013' '2,000' '1,992' '2,001' '1,997' '1,999' '1,993' '1,998'\n",
      " '1,986' '1,996' '2,022' '1,995' '1,979' '1,989']\n",
      "##################################################\n"
     ]
    }
   ],
   "source": [
    "# The main of this section is to rename the different \n",
    "# class in our categorigal feature that were not properly named.\n",
    "# or chanage the data type of a column\n",
    "\n",
    "cat_features = {\n",
    "    \"VehicleID\",\n",
    "    \"Location\",\n",
    "    \"Maker\",\n",
    "    \"Model\",\n",
    "    \"Year\",\n",
    "    \"Colour\",\n",
    "    \"Amount (Million Naira)\",\n",
    "    \"Type\",\n",
    "    \"Distance\",\n",
    "}\n",
    "\n",
    "for cat_feature in cat_features:\n",
    "  print(cat_feature, Car_Industry[cat_feature].unique(), sep=\":\")\n",
    "  print(\"#\"*50)"
   ]
  },
  {
   "cell_type": "code",
   "execution_count": 21,
   "id": "d888fce7",
   "metadata": {},
   "outputs": [
    {
     "data": {
      "text/html": [
       "<div>\n",
       "<style scoped>\n",
       "    .dataframe tbody tr th:only-of-type {\n",
       "        vertical-align: middle;\n",
       "    }\n",
       "\n",
       "    .dataframe tbody tr th {\n",
       "        vertical-align: top;\n",
       "    }\n",
       "\n",
       "    .dataframe thead th {\n",
       "        text-align: right;\n",
       "    }\n",
       "</style>\n",
       "<table border=\"1\" class=\"dataframe\">\n",
       "  <thead>\n",
       "    <tr style=\"text-align: right;\">\n",
       "      <th></th>\n",
       "      <th>Location</th>\n",
       "      <th>Maker</th>\n",
       "      <th>Year</th>\n",
       "      <th>Colour</th>\n",
       "      <th>Amount (Million Naira)</th>\n",
       "      <th>Type</th>\n",
       "      <th>Distance</th>\n",
       "    </tr>\n",
       "  </thead>\n",
       "  <tbody>\n",
       "    <tr>\n",
       "      <th>0</th>\n",
       "      <td>Abuja</td>\n",
       "      <td>Honda</td>\n",
       "      <td>2,011</td>\n",
       "      <td>Silver</td>\n",
       "      <td>2.2</td>\n",
       "      <td>Nigerian Used</td>\n",
       "      <td>103198.903612</td>\n",
       "    </tr>\n",
       "    <tr>\n",
       "      <th>1</th>\n",
       "      <td>Ibadan</td>\n",
       "      <td>Hyundai</td>\n",
       "      <td>2,012</td>\n",
       "      <td>Silver</td>\n",
       "      <td>3.5</td>\n",
       "      <td>Nigerian Used</td>\n",
       "      <td>125000.000000</td>\n",
       "    </tr>\n",
       "    <tr>\n",
       "      <th>2</th>\n",
       "      <td>Lagos</td>\n",
       "      <td>Lexus</td>\n",
       "      <td>2,010</td>\n",
       "      <td>Red</td>\n",
       "      <td>9.2</td>\n",
       "      <td>Foreign Used</td>\n",
       "      <td>110852.000000</td>\n",
       "    </tr>\n",
       "    <tr>\n",
       "      <th>3</th>\n",
       "      <td>Abuja</td>\n",
       "      <td>Mercedes-Benz</td>\n",
       "      <td>2,017</td>\n",
       "      <td>Blue</td>\n",
       "      <td>22.8</td>\n",
       "      <td>Foreign Used</td>\n",
       "      <td>30000.000000</td>\n",
       "    </tr>\n",
       "    <tr>\n",
       "      <th>4</th>\n",
       "      <td>Ibadan</td>\n",
       "      <td>Toyota</td>\n",
       "      <td>2,002</td>\n",
       "      <td>Red</td>\n",
       "      <td>2.6</td>\n",
       "      <td>Nigerian Used</td>\n",
       "      <td>125206.000000</td>\n",
       "    </tr>\n",
       "  </tbody>\n",
       "</table>\n",
       "</div>"
      ],
      "text/plain": [
       "  Location          Maker   Year  Colour  Amount (Million Naira)  \\\n",
       "0    Abuja          Honda  2,011  Silver                     2.2   \n",
       "1   Ibadan        Hyundai  2,012  Silver                     3.5   \n",
       "2    Lagos          Lexus  2,010     Red                     9.2   \n",
       "3    Abuja  Mercedes-Benz  2,017    Blue                    22.8   \n",
       "4   Ibadan         Toyota  2,002     Red                     2.6   \n",
       "\n",
       "            Type       Distance  \n",
       "0  Nigerian Used  103198.903612  \n",
       "1  Nigerian Used  125000.000000  \n",
       "2   Foreign Used  110852.000000  \n",
       "3   Foreign Used   30000.000000  \n",
       "4  Nigerian Used  125206.000000  "
      ]
     },
     "execution_count": 21,
     "metadata": {},
     "output_type": "execute_result"
    }
   ],
   "source": [
    "# Drop the Model feature\n",
    "Car_Industry.drop([\"Model\", \"VehicleID\"], axis=1, inplace=True)\n",
    "Car_Industry.head()"
   ]
  },
  {
   "cell_type": "code",
   "execution_count": null,
   "id": "c58bc14a",
   "metadata": {},
   "outputs": [],
   "source": [
    "#ENCODE Maker,Locations, Colour, Type"
   ]
  },
  {
   "cell_type": "code",
   "execution_count": 22,
   "id": "1cbe0273",
   "metadata": {},
   "outputs": [
    {
     "name": "stdout",
     "output_type": "stream",
     "text": [
      "<class 'pandas.core.frame.DataFrame'>\n",
      "Int64Index: 6972 entries, 0 to 7204\n",
      "Data columns (total 12 columns):\n",
      " #   Column                  Non-Null Count  Dtype  \n",
      "---  ------                  --------------  -----  \n",
      " 0   Location                6972 non-null   object \n",
      " 1   Maker                   6972 non-null   object \n",
      " 2   Year                    6972 non-null   object \n",
      " 3   Colour                  6972 non-null   object \n",
      " 4   Amount (Million Naira)  6972 non-null   float64\n",
      " 5   Type                    6972 non-null   object \n",
      " 6   Distance                6972 non-null   float64\n",
      " 7   Location_cat            6972 non-null   int8   \n",
      " 8   Maker_cat               6972 non-null   int8   \n",
      " 9   Year_cat                6972 non-null   int8   \n",
      " 10  Colour_cat              6972 non-null   int8   \n",
      " 11  Type_cat                6972 non-null   int8   \n",
      "dtypes: float64(2), int8(5), object(5)\n",
      "memory usage: 469.8+ KB\n"
     ]
    }
   ],
   "source": [
    "# Label Encoding\n",
    "cat_features = [\"Location\",\"Maker\",\"Year\",\"Colour\",\"Type\"]\n",
    "\n",
    "for cat_feature in cat_features:\n",
    "  Car_Industry[f\"{cat_feature}_cat\"] = Car_Industry[cat_feature].astype('category')\n",
    "  Car_Industry[f\"{cat_feature}_cat\"] = Car_Industry[f\"{cat_feature}_cat\"].cat.codes\n",
    "\n",
    "\n",
    "# Read more on Pandas get_dummies\n",
    "\n",
    "Car_Industry.info()"
   ]
  },
  {
   "cell_type": "code",
   "execution_count": 23,
   "id": "18113358",
   "metadata": {},
   "outputs": [
    {
     "data": {
      "text/html": [
       "<div>\n",
       "<style scoped>\n",
       "    .dataframe tbody tr th:only-of-type {\n",
       "        vertical-align: middle;\n",
       "    }\n",
       "\n",
       "    .dataframe tbody tr th {\n",
       "        vertical-align: top;\n",
       "    }\n",
       "\n",
       "    .dataframe thead th {\n",
       "        text-align: right;\n",
       "    }\n",
       "</style>\n",
       "<table border=\"1\" class=\"dataframe\">\n",
       "  <thead>\n",
       "    <tr style=\"text-align: right;\">\n",
       "      <th></th>\n",
       "      <th>Location</th>\n",
       "      <th>Maker</th>\n",
       "      <th>Year</th>\n",
       "      <th>Colour</th>\n",
       "      <th>Amount (Million Naira)</th>\n",
       "      <th>Type</th>\n",
       "      <th>Distance</th>\n",
       "      <th>Location_cat</th>\n",
       "      <th>Maker_cat</th>\n",
       "      <th>Year_cat</th>\n",
       "      <th>Colour_cat</th>\n",
       "      <th>Type_cat</th>\n",
       "    </tr>\n",
       "  </thead>\n",
       "  <tbody>\n",
       "    <tr>\n",
       "      <th>0</th>\n",
       "      <td>Abuja</td>\n",
       "      <td>Honda</td>\n",
       "      <td>2,011</td>\n",
       "      <td>Silver</td>\n",
       "      <td>2.2</td>\n",
       "      <td>Nigerian Used</td>\n",
       "      <td>103198.903612</td>\n",
       "      <td>0</td>\n",
       "      <td>16</td>\n",
       "      <td>21</td>\n",
       "      <td>15</td>\n",
       "      <td>2</td>\n",
       "    </tr>\n",
       "    <tr>\n",
       "      <th>1</th>\n",
       "      <td>Ibadan</td>\n",
       "      <td>Hyundai</td>\n",
       "      <td>2,012</td>\n",
       "      <td>Silver</td>\n",
       "      <td>3.5</td>\n",
       "      <td>Nigerian Used</td>\n",
       "      <td>125000.000000</td>\n",
       "      <td>1</td>\n",
       "      <td>18</td>\n",
       "      <td>22</td>\n",
       "      <td>15</td>\n",
       "      <td>2</td>\n",
       "    </tr>\n",
       "    <tr>\n",
       "      <th>2</th>\n",
       "      <td>Lagos</td>\n",
       "      <td>Lexus</td>\n",
       "      <td>2,010</td>\n",
       "      <td>Red</td>\n",
       "      <td>9.2</td>\n",
       "      <td>Foreign Used</td>\n",
       "      <td>110852.000000</td>\n",
       "      <td>2</td>\n",
       "      <td>28</td>\n",
       "      <td>20</td>\n",
       "      <td>14</td>\n",
       "      <td>1</td>\n",
       "    </tr>\n",
       "    <tr>\n",
       "      <th>3</th>\n",
       "      <td>Abuja</td>\n",
       "      <td>Mercedes-Benz</td>\n",
       "      <td>2,017</td>\n",
       "      <td>Blue</td>\n",
       "      <td>22.8</td>\n",
       "      <td>Foreign Used</td>\n",
       "      <td>30000.000000</td>\n",
       "      <td>0</td>\n",
       "      <td>33</td>\n",
       "      <td>27</td>\n",
       "      <td>2</td>\n",
       "      <td>1</td>\n",
       "    </tr>\n",
       "    <tr>\n",
       "      <th>4</th>\n",
       "      <td>Ibadan</td>\n",
       "      <td>Toyota</td>\n",
       "      <td>2,002</td>\n",
       "      <td>Red</td>\n",
       "      <td>2.6</td>\n",
       "      <td>Nigerian Used</td>\n",
       "      <td>125206.000000</td>\n",
       "      <td>1</td>\n",
       "      <td>51</td>\n",
       "      <td>12</td>\n",
       "      <td>14</td>\n",
       "      <td>2</td>\n",
       "    </tr>\n",
       "  </tbody>\n",
       "</table>\n",
       "</div>"
      ],
      "text/plain": [
       "  Location          Maker   Year  Colour  Amount (Million Naira)  \\\n",
       "0    Abuja          Honda  2,011  Silver                     2.2   \n",
       "1   Ibadan        Hyundai  2,012  Silver                     3.5   \n",
       "2    Lagos          Lexus  2,010     Red                     9.2   \n",
       "3    Abuja  Mercedes-Benz  2,017    Blue                    22.8   \n",
       "4   Ibadan         Toyota  2,002     Red                     2.6   \n",
       "\n",
       "            Type       Distance  Location_cat  Maker_cat  Year_cat  \\\n",
       "0  Nigerian Used  103198.903612             0         16        21   \n",
       "1  Nigerian Used  125000.000000             1         18        22   \n",
       "2   Foreign Used  110852.000000             2         28        20   \n",
       "3   Foreign Used   30000.000000             0         33        27   \n",
       "4  Nigerian Used  125206.000000             1         51        12   \n",
       "\n",
       "   Colour_cat  Type_cat  \n",
       "0          15         2  \n",
       "1          15         2  \n",
       "2          14         1  \n",
       "3           2         1  \n",
       "4          14         2  "
      ]
     },
     "execution_count": 23,
     "metadata": {},
     "output_type": "execute_result"
    }
   ],
   "source": [
    "Car_Industry.head()"
   ]
  },
  {
   "cell_type": "code",
   "execution_count": null,
   "id": "fcc9b1bb",
   "metadata": {},
   "outputs": [],
   "source": [
    "#Car_Industry[\"Distances\"]= np.array([\"Distances\"])"
   ]
  },
  {
   "cell_type": "code",
   "execution_count": 24,
   "id": "f71dd5fe",
   "metadata": {},
   "outputs": [
    {
     "data": {
      "text/html": [
       "<div>\n",
       "<style scoped>\n",
       "    .dataframe tbody tr th:only-of-type {\n",
       "        vertical-align: middle;\n",
       "    }\n",
       "\n",
       "    .dataframe tbody tr th {\n",
       "        vertical-align: top;\n",
       "    }\n",
       "\n",
       "    .dataframe thead th {\n",
       "        text-align: right;\n",
       "    }\n",
       "</style>\n",
       "<table border=\"1\" class=\"dataframe\">\n",
       "  <thead>\n",
       "    <tr style=\"text-align: right;\">\n",
       "      <th></th>\n",
       "      <th>Amount (Million Naira)</th>\n",
       "      <th>Location_cat</th>\n",
       "      <th>Maker_cat</th>\n",
       "      <th>Year_cat</th>\n",
       "      <th>Colour_cat</th>\n",
       "      <th>Type_cat</th>\n",
       "    </tr>\n",
       "  </thead>\n",
       "  <tbody>\n",
       "    <tr>\n",
       "      <th>0</th>\n",
       "      <td>2.2</td>\n",
       "      <td>0</td>\n",
       "      <td>16</td>\n",
       "      <td>21</td>\n",
       "      <td>15</td>\n",
       "      <td>2</td>\n",
       "    </tr>\n",
       "    <tr>\n",
       "      <th>1</th>\n",
       "      <td>3.5</td>\n",
       "      <td>1</td>\n",
       "      <td>18</td>\n",
       "      <td>22</td>\n",
       "      <td>15</td>\n",
       "      <td>2</td>\n",
       "    </tr>\n",
       "    <tr>\n",
       "      <th>2</th>\n",
       "      <td>9.2</td>\n",
       "      <td>2</td>\n",
       "      <td>28</td>\n",
       "      <td>20</td>\n",
       "      <td>14</td>\n",
       "      <td>1</td>\n",
       "    </tr>\n",
       "    <tr>\n",
       "      <th>3</th>\n",
       "      <td>22.8</td>\n",
       "      <td>0</td>\n",
       "      <td>33</td>\n",
       "      <td>27</td>\n",
       "      <td>2</td>\n",
       "      <td>1</td>\n",
       "    </tr>\n",
       "    <tr>\n",
       "      <th>4</th>\n",
       "      <td>2.6</td>\n",
       "      <td>1</td>\n",
       "      <td>51</td>\n",
       "      <td>12</td>\n",
       "      <td>14</td>\n",
       "      <td>2</td>\n",
       "    </tr>\n",
       "  </tbody>\n",
       "</table>\n",
       "</div>"
      ],
      "text/plain": [
       "   Amount (Million Naira)  Location_cat  Maker_cat  Year_cat  Colour_cat  \\\n",
       "0                     2.2             0         16        21          15   \n",
       "1                     3.5             1         18        22          15   \n",
       "2                     9.2             2         28        20          14   \n",
       "3                    22.8             0         33        27           2   \n",
       "4                     2.6             1         51        12          14   \n",
       "\n",
       "   Type_cat  \n",
       "0         2  \n",
       "1         2  \n",
       "2         1  \n",
       "3         1  \n",
       "4         2  "
      ]
     },
     "execution_count": 24,
     "metadata": {},
     "output_type": "execute_result"
    }
   ],
   "source": [
    "# Drop the reductant features since Label encoding have been done\n",
    "Car_Industry.drop([\"Location\",\"Distance\",\"Maker\",\"Year\",\"Colour\", \"Type\"], axis=1, inplace=True)\n",
    "Car_Industry.head()"
   ]
  },
  {
   "cell_type": "markdown",
   "id": "fede0b99",
   "metadata": {},
   "source": [
    "# Data Segmentation"
   ]
  },
  {
   "cell_type": "code",
   "execution_count": 25,
   "id": "96decfcd",
   "metadata": {},
   "outputs": [],
   "source": [
    "y = Car_Industry[\"Amount (Million Naira)\"] # Target\n",
    "X = Car_Industry.drop(\"Amount (Million Naira)\", axis=1)"
   ]
  },
  {
   "cell_type": "code",
   "execution_count": 26,
   "id": "9d949cda",
   "metadata": {},
   "outputs": [],
   "source": [
    "X_train, X_test, y_train, y_test = train_test_split(X, y, test_size=0.3)"
   ]
  },
  {
   "cell_type": "code",
   "execution_count": 27,
   "id": "e16a3f42",
   "metadata": {},
   "outputs": [
    {
     "data": {
      "text/plain": [
       "LinearRegression()"
      ]
     },
     "execution_count": 27,
     "metadata": {},
     "output_type": "execute_result"
    }
   ],
   "source": [
    "from sklearn.linear_model import LinearRegression\n",
    "\n",
    "reg = LinearRegression()\n",
    "reg.fit(X_train, y_train)"
   ]
  },
  {
   "cell_type": "code",
   "execution_count": 28,
   "id": "1abef9f1",
   "metadata": {},
   "outputs": [
    {
     "data": {
      "text/plain": [
       "array([  9.45278531,   6.56155256,  20.1628605 , ..., -15.63237249,\n",
       "       -12.64600566,  10.13416133])"
      ]
     },
     "execution_count": 28,
     "metadata": {},
     "output_type": "execute_result"
    }
   ],
   "source": [
    "reg.predict(X_test)"
   ]
  },
  {
   "cell_type": "code",
   "execution_count": 29,
   "id": "ccb730f0",
   "metadata": {},
   "outputs": [
    {
     "name": "stdout",
     "output_type": "stream",
     "text": [
      "MAE 9.17535273193241\n"
     ]
    }
   ],
   "source": [
    "from sklearn.metrics import mean_absolute_error\n",
    "\n",
    "# we are using mean_absolute_error because \n",
    "# this is a regression model\n",
    "\n",
    "y_pred = reg.predict(X_test)\n",
    "\n",
    "print(\"MAE\",mean_absolute_error(y_test,y_pred))"
   ]
  },
  {
   "cell_type": "markdown",
   "id": "fe9137eb",
   "metadata": {},
   "source": [
    "# Making prediction\n"
   ]
  },
  {
   "cell_type": "code",
   "execution_count": 31,
   "id": "d8d22ea0",
   "metadata": {},
   "outputs": [
    {
     "name": "stdout",
     "output_type": "stream",
     "text": [
      "[-14.95921479]\n"
     ]
    }
   ],
   "source": [
    "def predict():\n",
    "    cust =np.array([1,1,4,1,1]).reshape(1,5)\n",
    "    df2 = pd.DataFrame(cust, columns = Car_Industry.columns[1:])\n",
    "    y_pred = reg.predict(df2)\n",
    "    print(y_pred)\n",
    "    \n",
    "predict()"
   ]
  },
  {
   "cell_type": "code",
   "execution_count": 32,
   "id": "fbd90f68",
   "metadata": {},
   "outputs": [
    {
     "ename": "KeyError",
     "evalue": "'VehicleID_cat'",
     "output_type": "error",
     "traceback": [
      "\u001b[1;31m---------------------------------------------------------------------------\u001b[0m",
      "\u001b[1;31mKeyError\u001b[0m                                  Traceback (most recent call last)",
      "\u001b[1;32m~\\anaconda3\\lib\\site-packages\\pandas\\core\\indexes\\base.py\u001b[0m in \u001b[0;36mget_loc\u001b[1;34m(self, key, method, tolerance)\u001b[0m\n\u001b[0;32m   3360\u001b[0m             \u001b[1;32mtry\u001b[0m\u001b[1;33m:\u001b[0m\u001b[1;33m\u001b[0m\u001b[1;33m\u001b[0m\u001b[0m\n\u001b[1;32m-> 3361\u001b[1;33m                 \u001b[1;32mreturn\u001b[0m \u001b[0mself\u001b[0m\u001b[1;33m.\u001b[0m\u001b[0m_engine\u001b[0m\u001b[1;33m.\u001b[0m\u001b[0mget_loc\u001b[0m\u001b[1;33m(\u001b[0m\u001b[0mcasted_key\u001b[0m\u001b[1;33m)\u001b[0m\u001b[1;33m\u001b[0m\u001b[1;33m\u001b[0m\u001b[0m\n\u001b[0m\u001b[0;32m   3362\u001b[0m             \u001b[1;32mexcept\u001b[0m \u001b[0mKeyError\u001b[0m \u001b[1;32mas\u001b[0m \u001b[0merr\u001b[0m\u001b[1;33m:\u001b[0m\u001b[1;33m\u001b[0m\u001b[1;33m\u001b[0m\u001b[0m\n",
      "\u001b[1;32m~\\anaconda3\\lib\\site-packages\\pandas\\_libs\\index.pyx\u001b[0m in \u001b[0;36mpandas._libs.index.IndexEngine.get_loc\u001b[1;34m()\u001b[0m\n",
      "\u001b[1;32m~\\anaconda3\\lib\\site-packages\\pandas\\_libs\\index.pyx\u001b[0m in \u001b[0;36mpandas._libs.index.IndexEngine.get_loc\u001b[1;34m()\u001b[0m\n",
      "\u001b[1;32mpandas\\_libs\\hashtable_class_helper.pxi\u001b[0m in \u001b[0;36mpandas._libs.hashtable.PyObjectHashTable.get_item\u001b[1;34m()\u001b[0m\n",
      "\u001b[1;32mpandas\\_libs\\hashtable_class_helper.pxi\u001b[0m in \u001b[0;36mpandas._libs.hashtable.PyObjectHashTable.get_item\u001b[1;34m()\u001b[0m\n",
      "\u001b[1;31mKeyError\u001b[0m: 'VehicleID_cat'",
      "\nThe above exception was the direct cause of the following exception:\n",
      "\u001b[1;31mKeyError\u001b[0m                                  Traceback (most recent call last)",
      "\u001b[1;32m~\\AppData\\Local\\Temp/ipykernel_4488/2555953404.py\u001b[0m in \u001b[0;36m<module>\u001b[1;34m\u001b[0m\n\u001b[0;32m      1\u001b[0m predict_value = pd.DataFrame({\n\u001b[1;32m----> 2\u001b[1;33m     \u001b[1;34m\"VehicleID\"\u001b[0m\u001b[1;33m:\u001b[0m\u001b[0mX_test\u001b[0m\u001b[1;33m[\u001b[0m\u001b[1;34m\"VehicleID_cat\"\u001b[0m\u001b[1;33m]\u001b[0m\u001b[1;33m,\u001b[0m\u001b[1;34m\"Amount (Million Naira)\"\u001b[0m\u001b[1;33m:\u001b[0m\u001b[0my_pred\u001b[0m\u001b[1;33m\u001b[0m\u001b[1;33m\u001b[0m\u001b[0m\n\u001b[0m\u001b[0;32m      3\u001b[0m })\n\u001b[0;32m      4\u001b[0m \u001b[0mpredict_value\u001b[0m\u001b[1;33m\u001b[0m\u001b[1;33m\u001b[0m\u001b[0m\n",
      "\u001b[1;32m~\\anaconda3\\lib\\site-packages\\pandas\\core\\frame.py\u001b[0m in \u001b[0;36m__getitem__\u001b[1;34m(self, key)\u001b[0m\n\u001b[0;32m   3456\u001b[0m             \u001b[1;32mif\u001b[0m \u001b[0mself\u001b[0m\u001b[1;33m.\u001b[0m\u001b[0mcolumns\u001b[0m\u001b[1;33m.\u001b[0m\u001b[0mnlevels\u001b[0m \u001b[1;33m>\u001b[0m \u001b[1;36m1\u001b[0m\u001b[1;33m:\u001b[0m\u001b[1;33m\u001b[0m\u001b[1;33m\u001b[0m\u001b[0m\n\u001b[0;32m   3457\u001b[0m                 \u001b[1;32mreturn\u001b[0m \u001b[0mself\u001b[0m\u001b[1;33m.\u001b[0m\u001b[0m_getitem_multilevel\u001b[0m\u001b[1;33m(\u001b[0m\u001b[0mkey\u001b[0m\u001b[1;33m)\u001b[0m\u001b[1;33m\u001b[0m\u001b[1;33m\u001b[0m\u001b[0m\n\u001b[1;32m-> 3458\u001b[1;33m             \u001b[0mindexer\u001b[0m \u001b[1;33m=\u001b[0m \u001b[0mself\u001b[0m\u001b[1;33m.\u001b[0m\u001b[0mcolumns\u001b[0m\u001b[1;33m.\u001b[0m\u001b[0mget_loc\u001b[0m\u001b[1;33m(\u001b[0m\u001b[0mkey\u001b[0m\u001b[1;33m)\u001b[0m\u001b[1;33m\u001b[0m\u001b[1;33m\u001b[0m\u001b[0m\n\u001b[0m\u001b[0;32m   3459\u001b[0m             \u001b[1;32mif\u001b[0m \u001b[0mis_integer\u001b[0m\u001b[1;33m(\u001b[0m\u001b[0mindexer\u001b[0m\u001b[1;33m)\u001b[0m\u001b[1;33m:\u001b[0m\u001b[1;33m\u001b[0m\u001b[1;33m\u001b[0m\u001b[0m\n\u001b[0;32m   3460\u001b[0m                 \u001b[0mindexer\u001b[0m \u001b[1;33m=\u001b[0m \u001b[1;33m[\u001b[0m\u001b[0mindexer\u001b[0m\u001b[1;33m]\u001b[0m\u001b[1;33m\u001b[0m\u001b[1;33m\u001b[0m\u001b[0m\n",
      "\u001b[1;32m~\\anaconda3\\lib\\site-packages\\pandas\\core\\indexes\\base.py\u001b[0m in \u001b[0;36mget_loc\u001b[1;34m(self, key, method, tolerance)\u001b[0m\n\u001b[0;32m   3361\u001b[0m                 \u001b[1;32mreturn\u001b[0m \u001b[0mself\u001b[0m\u001b[1;33m.\u001b[0m\u001b[0m_engine\u001b[0m\u001b[1;33m.\u001b[0m\u001b[0mget_loc\u001b[0m\u001b[1;33m(\u001b[0m\u001b[0mcasted_key\u001b[0m\u001b[1;33m)\u001b[0m\u001b[1;33m\u001b[0m\u001b[1;33m\u001b[0m\u001b[0m\n\u001b[0;32m   3362\u001b[0m             \u001b[1;32mexcept\u001b[0m \u001b[0mKeyError\u001b[0m \u001b[1;32mas\u001b[0m \u001b[0merr\u001b[0m\u001b[1;33m:\u001b[0m\u001b[1;33m\u001b[0m\u001b[1;33m\u001b[0m\u001b[0m\n\u001b[1;32m-> 3363\u001b[1;33m                 \u001b[1;32mraise\u001b[0m \u001b[0mKeyError\u001b[0m\u001b[1;33m(\u001b[0m\u001b[0mkey\u001b[0m\u001b[1;33m)\u001b[0m \u001b[1;32mfrom\u001b[0m \u001b[0merr\u001b[0m\u001b[1;33m\u001b[0m\u001b[1;33m\u001b[0m\u001b[0m\n\u001b[0m\u001b[0;32m   3364\u001b[0m \u001b[1;33m\u001b[0m\u001b[0m\n\u001b[0;32m   3365\u001b[0m         \u001b[1;32mif\u001b[0m \u001b[0mis_scalar\u001b[0m\u001b[1;33m(\u001b[0m\u001b[0mkey\u001b[0m\u001b[1;33m)\u001b[0m \u001b[1;32mand\u001b[0m \u001b[0misna\u001b[0m\u001b[1;33m(\u001b[0m\u001b[0mkey\u001b[0m\u001b[1;33m)\u001b[0m \u001b[1;32mand\u001b[0m \u001b[1;32mnot\u001b[0m \u001b[0mself\u001b[0m\u001b[1;33m.\u001b[0m\u001b[0mhasnans\u001b[0m\u001b[1;33m:\u001b[0m\u001b[1;33m\u001b[0m\u001b[1;33m\u001b[0m\u001b[0m\n",
      "\u001b[1;31mKeyError\u001b[0m: 'VehicleID_cat'"
     ]
    }
   ],
   "source": [
    "predict_value = pd.DataFrame({\n",
    "    \"VehicleID\":X_test[\"VehicleID_cat\"],\"Amount (Million Naira)\":y_pred\n",
    "})\n",
    "predict_value"
   ]
  },
  {
   "cell_type": "code",
   "execution_count": null,
   "id": "08b743c9",
   "metadata": {},
   "outputs": [],
   "source": [
    "#predict_value.to_csv(\"FreeHackton1.csv\")"
   ]
  },
  {
   "cell_type": "code",
   "execution_count": null,
   "id": "5a7a3d6b",
   "metadata": {},
   "outputs": [],
   "source": []
  }
 ],
 "metadata": {
  "kernelspec": {
   "display_name": "Python 3 (ipykernel)",
   "language": "python",
   "name": "python3"
  },
  "language_info": {
   "codemirror_mode": {
    "name": "ipython",
    "version": 3
   },
   "file_extension": ".py",
   "mimetype": "text/x-python",
   "name": "python",
   "nbconvert_exporter": "python",
   "pygments_lexer": "ipython3",
   "version": "3.9.7"
  }
 },
 "nbformat": 4,
 "nbformat_minor": 5
}
